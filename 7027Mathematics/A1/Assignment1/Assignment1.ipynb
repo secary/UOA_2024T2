{
 "cells": [
  {
   "cell_type": "markdown",
   "metadata": {},
   "source": [
    "# Mathematical Foundations of Data Science Assignment 1\n",
    " ## <p align=\"right\">Trimester 2, 2024</p>\n",
    "\n",
    "## Question 1\n",
    "* The statement in set notation means for any y belongs to rational numbers, there is an absolute value of y smaller than y.\n",
    "* The statement is false. For example there is a positive number like 5 belongs to rational numbers but its  absolute value is 5 itself which equals 5 but not smaller.\n",
    "## Question 2\n",
    "* (a) The domain of *g* is $(-1,5)$.\n",
    "* (b) It is. As the graph shows the function has 2 dots at 3 but only the upper dot is solid which means the value of g when $x=3$ is 4.\n",
    "* (c) The expression of *g* on domain $[1,5)$ is $$f = \n",
    "\\begin{cases}\n",
    "\\frac12(x-1)^2+2,&x\\in[1,3]\\\\\n",
    "\\frac12x+\\frac72,&x\\in(3,5)\n",
    "\\end{cases}$$  \n",
    "Then we channge the places of $x$ and  $f$, then we can plot the graph of $f^{-1}$ in Jupyterbook:  \n",
    "<img src=\"graph.jpg\" alt=\"Image\" style=\"display: block; margin: 0 auto;\">\n",
    "\n",
    "## Question 3\n",
    "* (a) $A\\backslash\\Z=\\{\\frac{1}{4},\\frac{3}{2},\\pi\\} $ \n",
    "* (b) $A\\cap B=\\{0,\\frac{1}{4},\\frac{3}{2}\\}$\n",
    "## Question 4\n",
    "* To find $h^{-1}(x)$, we just switch all instances of $x$ and $h(x)$, which is\n",
    "<div style=\"text-align: center;\">\n",
    "\n",
    "$x=\\frac{h^{-1}(x)+3}{2}$\n",
    "\n",
    "$h^{-1}(x)=2x-3$ \n",
    "</div>\n",
    "\n",
    "* The domain of $h(x)$ is $[1,+\\infty)$, which indicates the range of $h(x)$ is $[2,+\\infty)$. As the concept of inverse functions we can learn the domain of $h^{-1}(x)$ is the ranger of $h(x)$, which is $[2,+\\infty)$.\n",
    "\n",
    "## Question 5\n",
    "* (a) We should import pandas first then creat a variable `df1` and assign the reading of csv to it. Then we use `head()` to print it out."
   ]
  },
  {
   "cell_type": "code",
   "execution_count": 39,
   "metadata": {},
   "outputs": [
    {
     "data": {
      "text/html": [
       "<div>\n",
       "<style scoped>\n",
       "    .dataframe tbody tr th:only-of-type {\n",
       "        vertical-align: middle;\n",
       "    }\n",
       "\n",
       "    .dataframe tbody tr th {\n",
       "        vertical-align: top;\n",
       "    }\n",
       "\n",
       "    .dataframe thead th {\n",
       "        text-align: right;\n",
       "    }\n",
       "</style>\n",
       "<table border=\"1\" class=\"dataframe\">\n",
       "  <thead>\n",
       "    <tr style=\"text-align: right;\">\n",
       "      <th></th>\n",
       "      <th>Rank</th>\n",
       "      <th>Type</th>\n",
       "      <th>Number</th>\n",
       "      <th>Lane</th>\n",
       "      <th>Swimmer</th>\n",
       "      <th>Nation</th>\n",
       "      <th>Time</th>\n",
       "    </tr>\n",
       "  </thead>\n",
       "  <tbody>\n",
       "    <tr>\n",
       "      <th>0</th>\n",
       "      <td>48</td>\n",
       "      <td>Heat</td>\n",
       "      <td>4</td>\n",
       "      <td>1</td>\n",
       "      <td>Matthew Abeysinghe</td>\n",
       "      <td>Sri Lanka</td>\n",
       "      <td>50.62</td>\n",
       "    </tr>\n",
       "    <tr>\n",
       "      <th>1</th>\n",
       "      <td>53</td>\n",
       "      <td>Heat</td>\n",
       "      <td>3</td>\n",
       "      <td>1</td>\n",
       "      <td>Issa Al-Adawi</td>\n",
       "      <td>Oman</td>\n",
       "      <td>51.81</td>\n",
       "    </tr>\n",
       "    <tr>\n",
       "      <th>2</th>\n",
       "      <td>8</td>\n",
       "      <td>Heat</td>\n",
       "      <td>9</td>\n",
       "      <td>6</td>\n",
       "      <td>David Popovici</td>\n",
       "      <td>Romania</td>\n",
       "      <td>48.03</td>\n",
       "    </tr>\n",
       "    <tr>\n",
       "      <th>3</th>\n",
       "      <td>50</td>\n",
       "      <td>Heat</td>\n",
       "      <td>3</td>\n",
       "      <td>6</td>\n",
       "      <td>Yousuf Al-Matrooshi</td>\n",
       "      <td>United Arab Emirates</td>\n",
       "      <td>51.50</td>\n",
       "    </tr>\n",
       "    <tr>\n",
       "      <th>4</th>\n",
       "      <td>18</td>\n",
       "      <td>Heat</td>\n",
       "      <td>7</td>\n",
       "      <td>1</td>\n",
       "      <td>Apostolos Christou</td>\n",
       "      <td>Greece</td>\n",
       "      <td>48.50</td>\n",
       "    </tr>\n",
       "  </tbody>\n",
       "</table>\n",
       "</div>"
      ],
      "text/plain": [
       "   Rank  Type  Number  Lane              Swimmer                Nation   Time\n",
       "0    48  Heat       4     1   Matthew Abeysinghe             Sri Lanka  50.62\n",
       "1    53  Heat       3     1        Issa Al-Adawi                  Oman  51.81\n",
       "2     8  Heat       9     6       David Popovici               Romania  48.03\n",
       "3    50  Heat       3     6  Yousuf Al-Matrooshi  United Arab Emirates  51.50\n",
       "4    18  Heat       7     1   Apostolos Christou                Greece  48.50"
      ]
     },
     "execution_count": 39,
     "metadata": {},
     "output_type": "execute_result"
    }
   ],
   "source": [
    "import pandas as pd\n",
    "\n",
    "df1 = pd.read_csv('swimming.csv')\n",
    "df1.head()"
   ]
  },
  {
   "cell_type": "markdown",
   "metadata": {},
   "source": [
    "* (b) We could import `matplotlib` first, then we creat a filter with only times in `df1`. Then we use `plt.hist` to create the histogram of all Times divided into different intervals. Finally we use `plt.xlabel`, `plt.ylabel`, `plt.legend` and `plt.title` to add details."
   ]
  },
  {
   "cell_type": "code",
   "execution_count": 19,
   "metadata": {},
   "outputs": [
    {
     "data": {
      "text/plain": [
       "Text(0.5, 1.0, 'Counts of Time')"
      ]
     },
     "execution_count": 19,
     "metadata": {},
     "output_type": "execute_result"
    },
    {
     "data": {
      "image/png": "[encoded data removed]",
      "text/plain": [
       "<Figure size 640x480 with 1 Axes>"
      ]
     },
     "metadata": {},
     "output_type": "display_data"
    }
   ],
   "source": [
    "import matplotlib.pyplot as plt\n",
    "\n",
    "time = df1['Time']\n",
    "plt.hist(time,label='Time',alpha = 0.2)\n",
    "plt.xlabel('time')\n",
    "plt.ylabel('counts')\n",
    "plt.legend()\n",
    "plt.title('Counts of Time')"
   ]
  },
  {
   "cell_type": "markdown",
   "metadata": {},
   "source": [
    "* (c) The mean time is `49.805`. We dould use `.mean()` to calculate it."
   ]
  },
  {
   "cell_type": "code",
   "execution_count": 18,
   "metadata": {},
   "outputs": [
    {
     "name": "stdout",
     "output_type": "stream",
     "text": [
      "49.805\n"
     ]
    }
   ],
   "source": [
    "m_time = round(df1['Time'].mean(),3)\n",
    "print(m_time)"
   ]
  },
  {
   "cell_type": "markdown",
   "metadata": {},
   "source": [
    "* (d) We could use the code below to find who is the fasteset one in the heats, it's `Thomas Ceccon`."
   ]
  },
  {
   "cell_type": "code",
   "execution_count": 31,
   "metadata": {},
   "outputs": [
    {
     "data": {
      "text/html": [
       "<div>\n",
       "<style scoped>\n",
       "    .dataframe tbody tr th:only-of-type {\n",
       "        vertical-align: middle;\n",
       "    }\n",
       "\n",
       "    .dataframe tbody tr th {\n",
       "        vertical-align: top;\n",
       "    }\n",
       "\n",
       "    .dataframe thead th {\n",
       "        text-align: right;\n",
       "    }\n",
       "</style>\n",
       "<table border=\"1\" class=\"dataframe\">\n",
       "  <thead>\n",
       "    <tr style=\"text-align: right;\">\n",
       "      <th></th>\n",
       "      <th>Rank</th>\n",
       "      <th>Type</th>\n",
       "      <th>Number</th>\n",
       "      <th>Lane</th>\n",
       "      <th>Swimmer</th>\n",
       "      <th>Nation</th>\n",
       "      <th>Time</th>\n",
       "    </tr>\n",
       "  </thead>\n",
       "  <tbody>\n",
       "    <tr>\n",
       "      <th>92</th>\n",
       "      <td>1</td>\n",
       "      <td>Heat</td>\n",
       "      <td>9</td>\n",
       "      <td>2</td>\n",
       "      <td>Thomas Ceccon</td>\n",
       "      <td>Italy</td>\n",
       "      <td>47.71</td>\n",
       "    </tr>\n",
       "  </tbody>\n",
       "</table>\n",
       "</div>"
      ],
      "text/plain": [
       "    Rank  Type  Number  Lane        Swimmer Nation   Time\n",
       "92     1  Heat       9     2  Thomas Ceccon  Italy  47.71"
      ]
     },
     "execution_count": 31,
     "metadata": {},
     "output_type": "execute_result"
    }
   ],
   "source": [
    "df2 = df1[df1['Type'] == 'Heat']\n",
    "df2[df2['Rank']  == 1]"
   ]
  },
  {
   "cell_type": "markdown",
   "metadata": {},
   "source": [
    "* (e) To find who is the slowest, we could use the code below. It's `Roman Mityukov\t`"
   ]
  },
  {
   "cell_type": "code",
   "execution_count": 72,
   "metadata": {},
   "outputs": [
    {
     "data": {
      "text/html": [
       "<div>\n",
       "<style scoped>\n",
       "    .dataframe tbody tr th:only-of-type {\n",
       "        vertical-align: middle;\n",
       "    }\n",
       "\n",
       "    .dataframe tbody tr th {\n",
       "        vertical-align: top;\n",
       "    }\n",
       "\n",
       "    .dataframe thead th {\n",
       "        text-align: right;\n",
       "    }\n",
       "</style>\n",
       "<table border=\"1\" class=\"dataframe\">\n",
       "  <thead>\n",
       "    <tr style=\"text-align: right;\">\n",
       "      <th></th>\n",
       "      <th>Rank</th>\n",
       "      <th>Type</th>\n",
       "      <th>Number</th>\n",
       "      <th>Lane</th>\n",
       "      <th>Swimmer</th>\n",
       "      <th>Nation</th>\n",
       "      <th>Time</th>\n",
       "    </tr>\n",
       "  </thead>\n",
       "  <tbody>\n",
       "    <tr>\n",
       "      <th>7</th>\n",
       "      <td>16</td>\n",
       "      <td>Semifinal</td>\n",
       "      <td>2</td>\n",
       "      <td>8</td>\n",
       "      <td>Roman Mityukov</td>\n",
       "      <td>Switzerland</td>\n",
       "      <td>48.53</td>\n",
       "    </tr>\n",
       "  </tbody>\n",
       "</table>\n",
       "</div>"
      ],
      "text/plain": [
       "   Rank       Type  Number  Lane         Swimmer       Nation   Time\n",
       "7    16  Semifinal       2     8  Roman Mityukov  Switzerland  48.53"
      ]
     },
     "execution_count": 72,
     "metadata": {},
     "output_type": "execute_result"
    }
   ],
   "source": [
    "df3 = df1[df1['Type'] == 'Semifinal']\n",
    "df_semi2 = df3[df3['Number'] == 2]\n",
    "df_semi2[df_semi2['Time'] == df_semi2.max()['Time']]\n"
   ]
  }
 ],
 "metadata": {
  "kernelspec": {
   "display_name": "Python 3",
   "language": "python",
   "name": "python3"
  },
  "language_info": {
   "codemirror_mode": {
    "name": "ipython",
    "version": 3
   },
   "file_extension": ".py",
   "mimetype": "text/x-python",
   "name": "python",
   "nbconvert_exporter": "python",
   "pygments_lexer": "ipython3",
   "version": "3.10.11"
  }
 },
 "nbformat": 4,
 "nbformat_minor": 2
}
