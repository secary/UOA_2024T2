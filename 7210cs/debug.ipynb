{
 "cells": [
  {
   "cell_type": "code",
   "execution_count": 2,
   "metadata": {},
   "outputs": [
    {
     "name": "stdout",
     "output_type": "stream",
     "text": [
      "[0, 1, 1, 2, 3, 5, 8, 13, 21, 34, 55]\n"
     ]
    }
   ],
   "source": [
    "def fibonaci(n):\n",
    "    result = [0,1]\n",
    "    i = 0\n",
    "    while result[i] < n:  \n",
    "        i += 1\n",
    "        result.append(result[i]+result[i-1])\n",
    "        \n",
    "        \n",
    "    return result\n",
    "\n",
    "output1_i = fibonaci(34)\n",
    "print(output1_i)"
   ]
  },
  {
   "cell_type": "code",
   "execution_count": 4,
   "metadata": {},
   "outputs": [],
   "source": [
    "q7_list = [3, 2, 1, 3, 2, 1, 3, 2, 1]\n",
    "q7_list.reverse()\n",
    "output7 = q7_list[:-1]"
   ]
  }
 ],
 "metadata": {
  "kernelspec": {
   "display_name": "Python 3",
   "language": "python",
   "name": "python3"
  },
  "language_info": {
   "codemirror_mode": {
    "name": "ipython",
    "version": 3
   },
   "file_extension": ".py",
   "mimetype": "text/x-python",
   "name": "python",
   "nbconvert_exporter": "python",
   "pygments_lexer": "ipython3",
   "version": "3.10.11"
  }
 },
 "nbformat": 4,
 "nbformat_minor": 2
}
