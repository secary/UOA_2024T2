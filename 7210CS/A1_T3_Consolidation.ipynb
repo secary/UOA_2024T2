{
 "cells": [
  {
   "cell_type": "markdown",
   "metadata": {},
   "source": [
    "### Instructions:\n",
    "\n",
    "- You can attempt any number of questions and in any order.  \n",
    "  See the assignment page for a description of the hurdle requirement for this assessment.\n",
    "- You may submit your practical for autograding as many times as you like to check on progress, however you will save time by checking and testing your own code before submitting.\n",
    "- Develop and check your answers in the spaces provided.\n",
    "- **Replace** the code `raise NotImplementedError()` with your solution to the question.\n",
    "- Do **NOT** remove any variables other provided markings already provided in the answer spaces.\n",
    "- Do **NOT** make any changes to this notebook outside of the spaces indicated.  \n",
    "  (If you do this, the submission system might not accept your work)\n",
    "\n",
    "### Submitting:\n",
    "\n",
    "1. Before you turn this problem in, make sure everything runs as expected by resetting this notebook.    \n",
    "   (You can do this from the menubar above by selecting `Kernel`&#8594;`Restart Kernel and Run All Cells...`)\n",
    "1. Don't forget to save your notebook after this step.\n",
    "1. Submit your .ipynb file to Gradescope via file upload or GitHub repository.\n",
    "1. You can submit as many times as needed.\n",
    "\n"
   ]
  },
  {
   "cell_type": "markdown",
   "metadata": {},
   "source": [
    "---"
   ]
  },
  {
   "cell_type": "markdown",
   "metadata": {
    "deletable": false,
    "editable": false,
    "nbgrader": {
     "cell_type": "markdown",
     "checksum": "4dee46dc9c1d711b4983d2c4e077d473",
     "grade": false,
     "grade_id": "cell-3d299f668d8f33cc",
     "locked": true,
     "schema_version": 3,
     "solution": false,
     "task": false
    },
    "tags": []
   },
   "source": [
    "# A1 | Week 3: Practice Consolidation and Review"
   ]
  },
  {
   "cell_type": "markdown",
   "metadata": {},
   "source": [
    "#### Question 1&nbsp;&nbsp;&nbsp;&nbsp;&nbsp;&nbsp;(8 Points)\n",
    "You have three sentences such as:\n",
    "* `sentence_1 = \"Hello world!\"`,\n",
    "* `sentence_2 = \"I love Python programming.\"`, and\n",
    "* `sentence_3 = \"I am improving my skills.\"`.\n",
    "\n",
    "Write a Python program to do the following:\n",
    "\n",
    "1. Combine those 3 sentences to the new string \"Hello world! I love Python programming and I am improving my skills.\". Create a variable `output1_i` and assign the solution to it.\n",
    "2. Create a variable `output1_ii` and assign the total length of your newly created string to it.\n",
    "3. How many times the letter `I` is mentioned in `output1_i`? Create a variable `output1_iii` and assign the solution to it.\n",
    "\n",
    "You **must** write your solution without assuming the content of any of the three sentences. For example, your code should work just as successfully with:\n",
    "\n",
    "* `sentence_1 = \"Hi!\"`,\n",
    "* `sentence_2 = \"I will not hard-code my solution.\"`, and\n",
    "* `sentence_3 = \"I understand that this is best practice for the Section Test.\"`.\n",
    "***\n",
    "<details>\n",
    "    <summary><span style=\"color:blue\">String concatenation</span></summary>\n",
    "\n",
    "To complete the target string, you will need to add a space between `sentence_1` and `sentence_2`. You will also need to join `sentence_2` and `sentence_3` with a string like `' and '` and handle removing the `'.'` character at the end of `sentence_2'.  \n",
    "</details>"
   ]
  },
  {
   "cell_type": "code",
   "execution_count": null,
   "metadata": {},
   "outputs": [],
   "source": [
    "sentence_1 = \"Hello world!\"\n",
    "sentence_2 = \"I love Python programming.\"\n",
    "sentence_3 = \"I am improving my skills.\""
   ]
  },
  {
   "cell_type": "code",
   "execution_count": null,
   "metadata": {
    "deletable": false,
    "nbgrader": {
     "cell_type": "code",
     "checksum": "4b3444a1523cb04926629d6695db7750",
     "grade": false,
     "grade_id": "question_1",
     "locked": false,
     "schema_version": 3,
     "solution": true,
     "task": false
    },
    "tags": []
   },
   "outputs": [],
   "source": [
    "# Write your solution here\n",
    "\n",
    "\n",
    "# YOUR CODE HERE\n",
    "raise NotImplementedError()"
   ]
  },
  {
   "cell_type": "code",
   "execution_count": null,
   "metadata": {
    "deletable": false,
    "editable": false,
    "nbgrader": {
     "cell_type": "code",
     "checksum": "1e8e9ae87df02194898dc605e5a5c9ba",
     "grade": true,
     "grade_id": "q1-1_combine_sentence",
     "locked": true,
     "points": 8,
     "schema_version": 3,
     "solution": false,
     "task": false
    },
    "tags": []
   },
   "outputs": [],
   "source": [
    "# Testing Cell (Do NOT modify this cell)"
   ]
  },
  {
   "cell_type": "markdown",
   "metadata": {},
   "source": [
    "#### Question 2&nbsp;&nbsp;&nbsp;&nbsp;&nbsp;&nbsp;(8 Points)\n",
    "Write a Python program to display the following pattern using while loops. Create the variable `output2` and use it inside the while loop to construct the string that you want to display at the end of the program using a newline character to create individual lines. Your program must operate successfully over the interval `1 .. total` where total is an integer such that `total > 1`.\n",
    "\n",
    "For example, for `total = 120`:\n",
    "```\n",
    "1 - 120  \n",
    "2 - 119  \n",
    "3 - 118  \n",
    "...  \n",
    "119 - 2  \n",
    "120 - 1\n",
    "```\n",
    "which would have a string representation (`repr(output2)`) that starts:\n",
    "```\n",
    "output2 == \"1 - 120\\n2 - 119\\n3 - 118...\"\n",
    "```"
   ]
  },
  {
   "cell_type": "code",
   "execution_count": null,
   "metadata": {},
   "outputs": [],
   "source": [
    "total = 120"
   ]
  },
  {
   "cell_type": "code",
   "execution_count": null,
   "metadata": {
    "deletable": false,
    "nbgrader": {
     "cell_type": "code",
     "checksum": "a55856532a16068b75c7d28b2a33c056",
     "grade": false,
     "grade_id": "question_2",
     "locked": false,
     "schema_version": 3,
     "solution": true,
     "task": false
    },
    "tags": []
   },
   "outputs": [],
   "source": [
    "# Write your solution here\n",
    "\n",
    "# YOUR CODE HERE\n",
    "raise NotImplementedError()"
   ]
  },
  {
   "cell_type": "code",
   "execution_count": null,
   "metadata": {
    "deletable": false,
    "editable": false,
    "nbgrader": {
     "cell_type": "code",
     "checksum": "bb4435e27c6ab67faacd6b762d8a5d05",
     "grade": true,
     "grade_id": "q2-1_pattern",
     "locked": true,
     "points": 8,
     "schema_version": 3,
     "solution": false,
     "task": false
    },
    "tags": []
   },
   "outputs": [],
   "source": [
    "# Testing Cell (Do NOT modify this cell)"
   ]
  },
  {
   "cell_type": "markdown",
   "metadata": {},
   "source": [
    "#### Question 3&nbsp;&nbsp;&nbsp;&nbsp;&nbsp;&nbsp;(8 Points)\n",
    "Write a Python program to separate any integer such as `q3_num = 12345` into `n` separate digits where `n = len(q3_num)`.\n",
    "\n",
    "1. Sum these digits together using a while loop. Create a variable `output3_i` and assign the sum to it.\n",
    "2. Create a *string* that lists the digits of `q3_num` in reverse separated by a space by using a while loop. Create a variable `output3_ii` and assign the solution to it. For example, if `q3_num = 12345` then `output3_ii == \"5 4 3 2 1\"`. Make sure that the string `output3_ii` only contains spaces between the characters.\n",
    " \n",
    "***\n",
    "\n",
    "<details>\n",
    "  <summary><span style=\"color:blue\">Click to see Hint</span></summary>\n",
    "  The <code>lstrip()</code> and <code>rstrip()</code> methods can be handy ways to trim whitespace at the left and right side of a string respectively. \n",
    "</details>"
   ]
  },
  {
   "cell_type": "code",
   "execution_count": null,
   "metadata": {},
   "outputs": [],
   "source": [
    "q3_num = 12345"
   ]
  },
  {
   "cell_type": "code",
   "execution_count": null,
   "metadata": {
    "deletable": false,
    "nbgrader": {
     "cell_type": "code",
     "checksum": "3a98484d412d0382960eb95657f3008a",
     "grade": false,
     "grade_id": "question_3",
     "locked": false,
     "schema_version": 3,
     "solution": true,
     "task": false
    },
    "tags": []
   },
   "outputs": [],
   "source": [
    "# Write your solution here\n",
    "\n",
    "# YOUR CODE HERE\n",
    "raise NotImplementedError()"
   ]
  },
  {
   "cell_type": "code",
   "execution_count": null,
   "metadata": {
    "deletable": false,
    "editable": false,
    "nbgrader": {
     "cell_type": "code",
     "checksum": "24fa8f451d8f062ccd848b4605902bbc",
     "grade": true,
     "grade_id": "q3-1_sum_separate_digits",
     "locked": true,
     "points": 4,
     "schema_version": 3,
     "solution": false,
     "task": false
    },
    "tags": []
   },
   "outputs": [],
   "source": [
    "# Testing Cell (Do NOT modify this cell)"
   ]
  },
  {
   "cell_type": "code",
   "execution_count": null,
   "metadata": {
    "deletable": false,
    "editable": false,
    "nbgrader": {
     "cell_type": "code",
     "checksum": "191dc2815cc0de1ae93193eaa2dcb82b",
     "grade": true,
     "grade_id": "q3-2_reverse_digits",
     "locked": true,
     "points": 4,
     "schema_version": 3,
     "solution": false,
     "task": false
    },
    "tags": []
   },
   "outputs": [],
   "source": [
    "# Testing Cell (Do NOT modify this cell)"
   ]
  },
  {
   "cell_type": "markdown",
   "metadata": {},
   "source": [
    "#### Question 4&nbsp;&nbsp;&nbsp;&nbsp;&nbsp;&nbsp;(8 Points)\n",
    "Consider a rectangle with dimensions (in cm) `q4_width` and `q4_height`. Write a Python program to calculate the following:\n",
    "\n",
    "* Find the perimeter of the rectangle. Create a string variable `output4_i` and assign the solution to it.\n",
    "* Find the area of the same rectangle. Create a string variable `output4_ii` and assign the solution to it.\n",
    "\n",
    "Finally, consider a circle with diameter `q4_diameter` (in cm).\n",
    "\n",
    "* Assign the area of a circle with a diameter of `q4_diameter` to variable `output_iii` using the formula: <br /><br />\n",
    "    $area = \\pi × (\\frac{diameter}{2})^2$\n",
    "\n",
    "The format of your solutions should be:\n",
    "\n",
    "* a string formatted like `XX cm` for the perimeter, \n",
    "* a string formatted like `XX cm^2` for the areas, and\n",
    "* rounded to two decimal places.\n",
    "\n",
    "***\n",
    "\n",
    "<details>\n",
    "  <summary><span style=\"color:blue\">Where's the pi?</span></summary>\n",
    "  You should import `pi` from the `math` library  \n",
    "</details>"
   ]
  },
  {
   "cell_type": "code",
   "execution_count": null,
   "metadata": {},
   "outputs": [],
   "source": [
    "q4_width = 14.2\n",
    "q4_height = 6.7\n",
    "q4_diameter = 2.0"
   ]
  },
  {
   "cell_type": "code",
   "execution_count": null,
   "metadata": {
    "deletable": false,
    "nbgrader": {
     "cell_type": "code",
     "checksum": "8b5b15560de762f24a031a89fa33de6a",
     "grade": false,
     "grade_id": "question_4",
     "locked": false,
     "schema_version": 3,
     "solution": true,
     "task": false
    },
    "tags": []
   },
   "outputs": [],
   "source": [
    "# Write your solution here\n",
    "\n",
    "# YOUR CODE HERE\n",
    "raise NotImplementedError()"
   ]
  },
  {
   "cell_type": "code",
   "execution_count": null,
   "metadata": {
    "deletable": false,
    "editable": false,
    "nbgrader": {
     "cell_type": "code",
     "checksum": "c0a3f6e75cb12ed9039c4840ae9eab72",
     "grade": true,
     "grade_id": "q4-1_rectangle",
     "locked": true,
     "points": 8,
     "schema_version": 3,
     "solution": false,
     "task": false
    },
    "tags": []
   },
   "outputs": [],
   "source": [
    "# Testing Cell (Do NOT modify this cell)"
   ]
  },
  {
   "cell_type": "markdown",
   "metadata": {},
   "source": [
    "#### Question 5&nbsp;&nbsp;&nbsp;&nbsp;&nbsp;&nbsp;(10 Points)\n",
    "Kelvin is often the preferred unit of temperature in science. Write a Python program that:\n",
    "\n",
    "1. Given a temperature in Kelvin, `q5_K`, converts the temperature to Fahrenheit and assigns it to a variable `output5_i` (rounded to 2 decimal places) using the following formula: \n",
    "\n",
    "    $F = (K − 273.15) * \\frac{9}{5} + 32$\n",
    "\n",
    "2. Converts this temperature in Fahrenheit (F) to Celsius (C) and assigns it to a variable `output5_ii` (rounded to 2 decimal places) using the following formula:\n",
    "\n",
    "    $C = (F - 32) * \\frac{5}{9}$\n",
    "\n",
    "3. Create a string variable `output5_iii`. This variable should contain the string `\"The water is frozen!\"` if `output5_ii` is less than or equal to 0 degrees Celsius, otherwise it should say `\"The water is not frozen.\"`."
   ]
  },
  {
   "cell_type": "code",
   "execution_count": null,
   "metadata": {},
   "outputs": [],
   "source": [
    "q5_K = 293.5"
   ]
  },
  {
   "cell_type": "code",
   "execution_count": null,
   "metadata": {
    "deletable": false,
    "nbgrader": {
     "cell_type": "code",
     "checksum": "2ed4973234bbf6aba369baead46201cc",
     "grade": false,
     "grade_id": "question_5",
     "locked": false,
     "schema_version": 3,
     "solution": true,
     "task": false
    },
    "tags": []
   },
   "outputs": [],
   "source": [
    "# Write your solution here\n",
    "\n",
    "# YOUR CODE HERE\n",
    "raise NotImplementedError()"
   ]
  },
  {
   "cell_type": "code",
   "execution_count": null,
   "metadata": {
    "deletable": false,
    "editable": false,
    "nbgrader": {
     "cell_type": "code",
     "checksum": "d7a9485bb8d1274009c4ee6b4fb9cc23",
     "grade": true,
     "grade_id": "q5-1_convert_temp",
     "locked": true,
     "points": 10,
     "schema_version": 3,
     "solution": false,
     "task": false
    },
    "tags": []
   },
   "outputs": [],
   "source": [
    "# Testing Cell (Do NOT modify this cell)"
   ]
  },
  {
   "cell_type": "markdown",
   "metadata": {},
   "source": [
    "#### Question 6&nbsp;&nbsp;&nbsp;&nbsp;&nbsp;&nbsp;(14 Points)\n",
    "\n",
    "Ok! Let's get some practice with random numbers. Random numbers are generated with a seed. In this question, we will use the variable `random_seed` as a seed and set it like:\n",
    "```python\n",
    "import random\n",
    "random.seed(random_seed)\n",
    "```\n",
    "Let's create some random numbers in a formatted table for display. Build your table in the variable `output6_i` by adding up to ten lines of random numbers in four columns and data according to the following requirements:\n",
    "* Use a while loop to build each line of the table `output6_i` separating each line with a newline character,\n",
    "* Column 1: The line number in the table in the range 0 .. 9,\n",
    "* Column 2: A random integer, `r`, in the range 1 .. 100 using the call `random.randint(1, 100)`,\n",
    "* Column 3: One third of the random number calculated by floor division (also sometimes known as integer division),\n",
    "* Column 4: A boolean that indicates if `r` is even in UPPERCASE.\n",
    "Finally, you must halt your construction of `output6_i` when the randomly generated number is `r < 20`. If this occurs, you will have a table that concludes with a final line with `r < 20` but no further lines. If this happens, the table will be shorter than ten lines.\n",
    "\n",
    "Let's see some examples...\n",
    "\n",
    "A random seed of `13` produces a series of (the first ten) random integers like:\n",
    "```\n",
    "34, 38, 88, 88, 23, 84, 30, 86, 19, 29\n",
    "```\n",
    "Which in turn produces the following table (which has been made pretty by \"right adjusting\" the numbers - which you **do not** have to do):\n",
    "```\n",
    "0  34  11  TRUE\n",
    "1  38  12  TRUE\n",
    "2  88  29  TRUE\n",
    "3  88  29  TRUE\n",
    "4  24   8  TRUE\n",
    "5  84  28  TRUE\n",
    "6  30  10  TRUE\n",
    "7  86  28  TRUE\n",
    "8  19   6  FALSE\n",
    "```\n",
    "Note how the table has just 9 lines of data since the loop stopped when `r < 20`. And if we set the seed to `42` we see a shorter table:\n",
    "```\n",
    "0  82  27  TRUE\n",
    "1  15   5  FALSE\n",
    "```\n",
    "Ok, over to you!"
   ]
  },
  {
   "cell_type": "code",
   "execution_count": null,
   "metadata": {},
   "outputs": [],
   "source": [
    "random_seed = 13"
   ]
  },
  {
   "cell_type": "code",
   "execution_count": null,
   "metadata": {
    "deletable": false,
    "nbgrader": {
     "cell_type": "code",
     "checksum": "925624c049067eff0599f1edbfb6935e",
     "grade": false,
     "grade_id": "question_6",
     "locked": false,
     "schema_version": 3,
     "solution": true,
     "task": false
    },
    "tags": []
   },
   "outputs": [],
   "source": [
    "import random\n",
    "\n",
    "# Do not change please! :-)\n",
    "random.seed(random_seed)\n",
    "\n",
    "# Write your solution here\n",
    "\n",
    "# YOUR CODE HERE\n",
    "raise NotImplementedError()"
   ]
  },
  {
   "cell_type": "code",
   "execution_count": null,
   "metadata": {
    "deletable": false,
    "editable": false,
    "nbgrader": {
     "cell_type": "code",
     "checksum": "0536789f6dfcce959a9ace64453768d4",
     "grade": true,
     "grade_id": "q6-1_random_nums",
     "locked": true,
     "points": 14,
     "schema_version": 3,
     "solution": false,
     "task": false
    },
    "tags": []
   },
   "outputs": [],
   "source": [
    "# Testing Cell (Do NOT modify this cell)"
   ]
  },
  {
   "cell_type": "markdown",
   "metadata": {},
   "source": [
    "#### Question 7&nbsp;&nbsp;&nbsp;&nbsp;&nbsp;&nbsp;(12 Points) \n",
    "\n",
    "A [prime number](https://en.wikipedia.org/wiki/Prime_number) is a natural number greater than 1 that is not, itself, the product of two natural numbers.\n",
    "\n",
    "1. Given a number `q7_input`, use a while loop to determine if the number is prime and save this result as a Boolean in the variable `output7_i)`.\n",
    "\n",
    "2. Given an upper limit, `q7_limit`, use one or more while loops to create a string `output7_ii` that includes all the prime numbers in the range `2 .. q7_limit` separated by spaces. For example:\n",
    "```\n",
    "# Given\n",
    "q7_limit = 50\n",
    "\n",
    "# Then\n",
    "output7_ii == \"2 3 5 7 11 13 17 19 23 29 31 37 41 43 47\"\n",
    "```"
   ]
  },
  {
   "cell_type": "code",
   "execution_count": null,
   "metadata": {},
   "outputs": [],
   "source": [
    "q7_input = 38\n",
    "q7_limit = 60"
   ]
  },
  {
   "cell_type": "code",
   "execution_count": null,
   "metadata": {
    "deletable": false,
    "nbgrader": {
     "cell_type": "code",
     "checksum": "498e3493d0a24807b8b88be2c6503af2",
     "grade": false,
     "grade_id": "question_7",
     "locked": false,
     "schema_version": 3,
     "solution": true,
     "task": false
    },
    "tags": []
   },
   "outputs": [],
   "source": [
    "# Write your solution here\n",
    "\n",
    "\n",
    "# YOUR CODE HERE\n",
    "raise NotImplementedError()"
   ]
  },
  {
   "cell_type": "code",
   "execution_count": null,
   "metadata": {
    "deletable": false,
    "editable": false,
    "nbgrader": {
     "cell_type": "code",
     "checksum": "43053d8325c48fe8dfa190c598309099",
     "grade": true,
     "grade_id": "q7-1_primes",
     "locked": true,
     "points": 12,
     "schema_version": 3,
     "solution": false,
     "task": false
    },
    "tags": []
   },
   "outputs": [],
   "source": [
    "# Testing Cell (Do NOT modify this cell)"
   ]
  },
  {
   "cell_type": "markdown",
   "metadata": {},
   "source": [
    "#### Question 8&nbsp;&nbsp;&nbsp;&nbsp;&nbsp;&nbsp;(12 Points)\n",
    "We wish to draw a multi-level building of apartments using text (and assign it to a string variable for display).\n",
    "\n",
    "The building features two patterns depending which level of the building you are creating. The bottom level (the ground floor or entry level) has one window and looks like this:\n",
    "\n",
    "```\n",
    "##########\n",
    "****  ****\n",
    "****  ****\n",
    "****  ****\n",
    "```\n",
    "All other levels above the ground floor are apartments and have two windows each. They look like this:\n",
    "```\n",
    "----------\n",
    "**  **  **\n",
    "**  **  **\n",
    "**********\n",
    "```\n",
    "The building is specified with one variable `number_of_levels`. A building is built (top to bottom) by drawing `number_of_levels - 1` floors of apartments followed by the ground floor.\n",
    "\n",
    "Thus: `number_of_levels = 3` has two apartment stories and a ground floor:\n",
    "```\n",
    "----------\n",
    "**  **  **\n",
    "**  **  **\n",
    "**********\n",
    "----------\n",
    "**  **  **\n",
    "**  **  **\n",
    "**********\n",
    "##########\n",
    "****  ****\n",
    "****  ****\n",
    "****  ****\n",
    "```\n",
    "while `number_of_levels = 1` looks like:\n",
    "```\n",
    "##########\n",
    "****  ****\n",
    "****  ****\n",
    "****  ****\n",
    "```\n",
    "Write a Python program to draw a multi-story building algorithmically based on the `number_of_levels` variable. Create a variable `output8` and assign the solution to it before printing to check your work."
   ]
  },
  {
   "cell_type": "code",
   "execution_count": null,
   "metadata": {},
   "outputs": [],
   "source": [
    "number_of_levels = 4"
   ]
  },
  {
   "cell_type": "code",
   "execution_count": null,
   "metadata": {
    "deletable": false,
    "nbgrader": {
     "cell_type": "code",
     "checksum": "ed4af1cf2a0be54a15e1727fc732f117",
     "grade": false,
     "grade_id": "question_8",
     "locked": false,
     "schema_version": 3,
     "solution": true,
     "task": false
    },
    "tags": []
   },
   "outputs": [],
   "source": [
    "\n",
    "# Write your solution here\n",
    "\n",
    "# YOUR CODE HERE\n",
    "raise NotImplementedError()"
   ]
  },
  {
   "cell_type": "code",
   "execution_count": null,
   "metadata": {
    "deletable": false,
    "editable": false,
    "nbgrader": {
     "cell_type": "code",
     "checksum": "3368d014df7a2b47b30aa84223202799",
     "grade": true,
     "grade_id": "q8-1_building",
     "locked": true,
     "points": 12,
     "schema_version": 3,
     "solution": false,
     "task": false
    },
    "tags": []
   },
   "outputs": [],
   "source": [
    "# Testing Cell (Do NOT modify this cell)\n"
   ]
  },
  {
   "cell_type": "markdown",
   "metadata": {},
   "source": [
    "#### Question 9&nbsp;&nbsp;&nbsp;&nbsp;&nbsp;&nbsp;(20 Points)\n",
    "\n",
    "[Morse Code](https://en.wikipedia.org/wiki/Morse_code) encodes text characters as a series of dots (`.`) and dashes (`-`) for transmission of information over low bandwidth (old!) mediums such as the original telegraph.\n",
    "\n",
    "Each character in the Morse alphabet is represented as a signature of dots and dashes. We wish to create a decoder that will extract a message from a Morse stream and convert it to readable text. There is an international standard that defines the current Morse code, but for our purposes, we will restrict ourselves to the small alphabet (defined below) but including the following control symbols:\n",
    "* space between letters - one space like ` `,\n",
    "* space between words - three spaces like `   `, and\n",
    "* end of message - three hashes like `###`.\n",
    "```\n",
    "A = '.-'\n",
    "D = '-..'\n",
    "E = '.'\n",
    "F = '..--.'\n",
    "H = '....'\n",
    "I = '..'\n",
    "M = '--'\n",
    "N = '-.'\n",
    "O = '---'\n",
    "S = '...'\n",
    "T = '-'\n",
    "U = '..-'\n",
    "Y = '-.--'\n",
    "1 = '.----'\n",
    "2 = '..---'\n",
    "```\n",
    "Your first mission is to write a decoder based on one or more while loops that can handle a message such as `q9_input_i` and create a string `output9_i` with the encoded message. \n",
    "\n",
    "Your second mission is to write an encoder, based on one or more while loops, that can encode a plain text message such as `q9_input_ii` built from the same alphabet and create a correct Morse representation stored in `output9_ii`. "
   ]
  },
  {
   "cell_type": "code",
   "execution_count": null,
   "metadata": {},
   "outputs": [],
   "source": [
    "q9_input_i = \"-.-- --- ..-   ..--. .. -. .. ... .... . -..   .- .----###\"\n",
    "q9_input_ii = \"YOU MADE IT\""
   ]
  },
  {
   "cell_type": "code",
   "execution_count": null,
   "metadata": {
    "deletable": false,
    "nbgrader": {
     "cell_type": "code",
     "checksum": "03a1202da1ee9a06906945535df6de9e",
     "grade": false,
     "grade_id": "question_9",
     "locked": false,
     "schema_version": 3,
     "solution": true,
     "task": false
    },
    "tags": []
   },
   "outputs": [],
   "source": [
    "# Write your solution here\n",
    "\n",
    "# YOUR CODE HERE\n",
    "raise NotImplementedError()"
   ]
  },
  {
   "cell_type": "code",
   "execution_count": null,
   "metadata": {
    "deletable": false,
    "editable": false,
    "nbgrader": {
     "cell_type": "code",
     "checksum": "e275ce0d173aa578a128894eec6c43f3",
     "grade": true,
     "grade_id": "q9-1_morse",
     "locked": true,
     "points": 10,
     "schema_version": 3,
     "solution": false,
     "task": false
    },
    "tags": []
   },
   "outputs": [],
   "source": [
    "# Testing Cell (Do NOT modify this cell)"
   ]
  },
  {
   "cell_type": "code",
   "execution_count": null,
   "metadata": {
    "deletable": false,
    "editable": false,
    "nbgrader": {
     "cell_type": "code",
     "checksum": "3a4c04078ab5b606dcf71416d086fdb0",
     "grade": true,
     "grade_id": "q9-2_morse",
     "locked": true,
     "points": 10,
     "schema_version": 3,
     "solution": false,
     "task": false
    },
    "tags": []
   },
   "outputs": [],
   "source": [
    "# Testing Cell (Do NOT modify this cell)"
   ]
  }
 ],
 "metadata": {
  "kernelspec": {
   "display_name": "Python 3 (ipykernel)",
   "language": "python",
   "name": "python3"
  },
  "language_info": {
   "codemirror_mode": {
    "name": "ipython",
    "version": 3
   },
   "file_extension": ".py",
   "mimetype": "text/x-python",
   "name": "python",
   "nbconvert_exporter": "python",
   "pygments_lexer": "ipython3",
   "version": "3.9.13"
  },
  "varInspector": {
   "cols": {
    "lenName": 16,
    "lenType": 16,
    "lenVar": 40
   },
   "kernels_config": {
    "python": {
     "delete_cmd_postfix": "",
     "delete_cmd_prefix": "del ",
     "library": "var_list.py",
     "varRefreshCmd": "print(var_dic_list())"
    },
    "r": {
     "delete_cmd_postfix": ") ",
     "delete_cmd_prefix": "rm(",
     "library": "var_list.r",
     "varRefreshCmd": "cat(var_dic_list()) "
    }
   },
   "types_to_exclude": [
    "module",
    "function",
    "builtin_function_or_method",
    "instance",
    "_Feature"
   ],
   "window_display": false
  }
 },
 "nbformat": 4,
 "nbformat_minor": 4
}
