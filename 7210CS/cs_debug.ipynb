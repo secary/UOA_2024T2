{
 "cells": [
  {
   "cell_type": "code",
   "execution_count": 33,
   "metadata": {},
   "outputs": [
    {
     "name": "stdout",
     "output_type": "stream",
     "text": [
      "'1 - 120\\n2 - 119\\n3 - 118\\n4 - 117\\n5 - 116\\n6 - 115\\n7 - 114\\n8 - 113\\n9 - 112\\n10 - 111\\n11 - 110\\n12 - 109\\n13 - 108\\n14 - 107\\n15 - 106\\n16 - 105\\n17 - 104\\n18 - 103\\n19 - 102\\n20 - 101\\n21 - 100\\n22 - 99\\n23 - 98\\n24 - 97\\n25 - 96\\n26 - 95\\n27 - 94\\n28 - 93\\n29 - 92\\n30 - 91\\n31 - 90\\n32 - 89\\n33 - 88\\n34 - 87\\n35 - 86\\n36 - 85\\n37 - 84\\n38 - 83\\n39 - 82\\n40 - 81\\n41 - 80\\n42 - 79\\n43 - 78\\n44 - 77\\n45 - 76\\n46 - 75\\n47 - 74\\n48 - 73\\n49 - 72\\n50 - 71\\n51 - 70\\n52 - 69\\n53 - 68\\n54 - 67\\n55 - 66\\n56 - 65\\n57 - 64\\n58 - 63\\n59 - 62\\n60 - 61\\n61 - 60\\n62 - 59\\n63 - 58\\n64 - 57\\n65 - 56\\n66 - 55\\n67 - 54\\n68 - 53\\n69 - 52\\n70 - 51\\n71 - 50\\n72 - 49\\n73 - 48\\n74 - 47\\n75 - 46\\n76 - 45\\n77 - 44\\n78 - 43\\n79 - 42\\n80 - 41\\n81 - 40\\n82 - 39\\n83 - 38\\n84 - 37\\n85 - 36\\n86 - 35\\n87 - 34\\n88 - 33\\n89 - 32\\n90 - 31\\n91 - 30\\n92 - 29\\n93 - 28\\n94 - 27\\n95 - 26\\n96 - 25\\n97 - 24\\n98 - 23\\n99 - 22\\n100 - 21\\n101 - 20\\n102 - 19\\n103 - 18\\n104 - 17\\n105 - 16\\n106 - 15\\n107 - 14\\n108 - 13\\n109 - 12\\n110 - 11\\n111 - 10\\n112 - 9\\n113 - 8\\n114 - 7\\n115 - 6\\n116 - 5\\n117 - 4\\n118 - 3\\n119 - 2\\n120 - 1\\n'\n"
     ]
    }
   ],
   "source": [
    "def range_total(total):\n",
    "    result = ''\n",
    "    i = 1\n",
    "    while i <= total:\n",
    "        result += str(i)+' - '+ str(total + 1 - i) + '\\n'\n",
    "        i += 1\n",
    "    return result\n",
    "print(repr(range_total(120)))\n"
   ]
  },
  {
   "cell_type": "code",
   "execution_count": 5,
   "metadata": {},
   "outputs": [],
   "source": [
    "q5_K = 293.5\n",
    "\n",
    "def KtoF(k):\n",
    "    return round((k-273.15)*1.8+35,2)\n",
    "\n",
    "def FtoC(F):\n",
    "    return round((F-32)*5/9,2)\n",
    "\n",
    "def frozen(c):\n",
    "    if c > 0:\n",
    "        output = 'The water is not frozen.'\n",
    "    else:\n",
    "        output = 'The water is frozen!'\n",
    "    \n",
    "    return output\n",
    "\n",
    "output5_i = KtoF(q5_K)\n",
    "output5_ii = FtoC(output5_i)\n",
    "output5_iii = frozen(output5_ii)"
   ]
  },
  {
   "cell_type": "code",
   "execution_count": 24,
   "metadata": {},
   "outputs": [
    {
     "name": "stdout",
     "output_type": "stream",
     "text": [
      "\n"
     ]
    }
   ],
   "source": [
    "import random\n",
    "random.seed(13)\n",
    "\n",
    "def table():\n",
    "    result = ''\n",
    "    r = random.randint(1,100)\n",
    "    n = r//3\n",
    "    i = 0\n",
    "    while r >= 20:\n",
    "        if r < 20:\n",
    "            result += f'{i} {r} {n} {r % 2 == 0}\\n'\n",
    "            break\n",
    "        i += 1\n",
    "        r = random.randint(1,100)\n",
    "        n = r//3\n",
    "    return result\n",
    "        \n",
    "output = table()\n",
    "print (output)"
   ]
  },
  {
   "cell_type": "code",
   "execution_count": 3,
   "metadata": {},
   "outputs": [
    {
     "name": "stdout",
     "output_type": "stream",
     "text": [
      "0 34 11 True\n",
      "1 38 12 True\n",
      "2 88 29 True\n",
      "3 88 29 True\n",
      "4 24 8 True\n",
      "5 84 28 True\n",
      "6 30 10 True\n",
      "7 86 28 True\n",
      "8 19 6 False\n",
      "\n"
     ]
    }
   ],
   "source": [
    "import random\n",
    "random_seed = 13\n",
    "\n",
    "# Do not change please! :-)\n",
    "random.seed(random_seed)\n",
    "\n",
    "# Write your solution here\n",
    "\n",
    "# YOUR CODE HERE\n",
    "def table(random_seed):\n",
    "    random.seed(random_seed)\n",
    "    result = ''\n",
    "    i = 0\n",
    "    r = random.randint(1,100)\n",
    "    while r >= 20:\n",
    "        n = r//3\n",
    "        result += f'{i} {r} {n} {r%2==0}\\n'\n",
    "        r = random.randint(1,100)\n",
    "        i += 1\n",
    "        if r < 20:\n",
    "            n = r//3\n",
    "            result += f'{i} {r} {n} {r%2==0}\\n'\n",
    "            r = random.randint(1,100)\n",
    "            i += 1\n",
    "            break\n",
    "        \n",
    "    return result\n",
    "    \n",
    "output6 = table(random_seed)      \n",
    "print(output6)"
   ]
  },
  {
   "cell_type": "code",
   "execution_count": 10,
   "metadata": {},
   "outputs": [],
   "source": [
    "q7_input = 38\n",
    "q7_limit = 60"
   ]
  },
  {
   "cell_type": "code",
   "execution_count": 19,
   "metadata": {},
   "outputs": [
    {
     "name": "stdout",
     "output_type": "stream",
     "text": [
      "True\n",
      "2 3 5 7 9 11 13 15 17 19 21 23 25 27 29 31 33 35 37 39 41 43 45 47 49 51 53 55 57 59\n"
     ]
    }
   ],
   "source": [
    "import math\n",
    "\n",
    "def prime_check(num):\n",
    "    i = 2\n",
    "    while i <= math.sqrt(num):\n",
    "        if num % i == 0:\n",
    "            return False\n",
    "        return True\n",
    "\n",
    "print(prime_check(17))\n",
    "\n",
    "def prime_print(range):\n",
    "    i = 2\n",
    "    result = '2 3'\n",
    "    while i <= range:\n",
    "        if prime_check(i):\n",
    "            result += f' {i}'\n",
    "        i += 1\n",
    "    return result\n",
    "        \n",
    "print(prime_print(60))"
   ]
  },
  {
   "cell_type": "code",
   "execution_count": 34,
   "metadata": {},
   "outputs": [
    {
     "name": "stdout",
     "output_type": "stream",
     "text": [
      "----------\n",
      "**  **  **\n",
      "**  **  **\n",
      "**********\n",
      "----------\n",
      "**  **  **\n",
      "**  **  **\n",
      "**********\n",
      "----------\n",
      "**  **  **\n",
      "**  **  **\n",
      "**********\n",
      "##########\n",
      "****  ****\n",
      "****  ****\n",
      "****  ****\n"
     ]
    }
   ],
   "source": [
    "ground_floor = '''##########\n",
    "****  ****\n",
    "****  ****\n",
    "****  ****'''\n",
    "floor = '''----------\n",
    "**  **  **\n",
    "**  **  **\n",
    "**********'''\n",
    "def build_drawing(level):\n",
    "    result = \"\"\n",
    "    for i in range(0,level-1):\n",
    "        result += floor + '\\n'\n",
    "        i += 1\n",
    "    return result  + ground_floor\n",
    "\n",
    "print(build_drawing(4))\n",
    "    \n",
    "\n",
    "        \n",
    "\n"
   ]
  },
  {
   "cell_type": "code",
   "execution_count": 2,
   "metadata": {},
   "outputs": [],
   "source": [
    "morse_code_dict = {\n",
    "    'A': '.-', 'B': '-...', 'C': '-.-.', 'D': '-..', 'E': '.',\n",
    "    'F': '..--.', 'G': '--.', 'H': '....', 'I': '..', 'J': '.---',\n",
    "    'K': '-.-', 'L': '.-..', 'M': '--', 'N': '-.', 'O': '---',\n",
    "    'P': '.--.', 'Q': '--.-', 'R': '.-.', 'S': '...', 'T': '-',\n",
    "    'U': '..-', 'V': '...-', 'W': '.--', 'X': '-..-', 'Y': '-.--',\n",
    "    'Z': '--..', '1': '.----', '2': '..---', '3': '...--', '4': '....-',\n",
    "    '5': '.....', '6': '-....', '7': '--...', '8': '---..', '9': '----.',\n",
    "    '0': '-----', ', ': '--..--', '.': '.-.-.-', '?': '..--..', '/': '-..-.',\n",
    "    '-': '-....-', '(': '-.--.', ')': '-.--.-'\n",
    "}\n",
    "\n",
    "reverse_morse_code_dict = {value: key for key, value in morse_code_dict.items()}"
   ]
  },
  {
   "cell_type": "code",
   "execution_count": 16,
   "metadata": {},
   "outputs": [
    {
     "name": "stdout",
     "output_type": "stream",
     "text": [
      "-.-- --- ..-   -- .- -.. .   .. -###\n"
     ]
    }
   ],
   "source": [
    "\n",
    "def encode(input):\n",
    "    encoded_message = ''\n",
    "\n",
    "    for char in input:\n",
    "        if char in morse_code_dict:\n",
    "            encoded_message += morse_code_dict[char] + ' '\n",
    "        elif char == ' ':\n",
    "            encoded_message += '  '  \n",
    "\n",
    "    return encoded_message.strip() + '###'\n",
    "\n",
    "q9_input_ii = \"YOU MADE IT\"\n",
    "print(encode(q9_input_ii))   "
   ]
  },
  {
   "cell_type": "code",
   "execution_count": 9,
   "metadata": {},
   "outputs": [
    {
     "name": "stdout",
     "output_type": "stream",
     "text": [
      "YOU FINISHED A1\n"
     ]
    }
   ],
   "source": [
    "def decode(input):\n",
    "    decoded_message = ''\n",
    "    char =  ''\n",
    "    i = 0\n",
    "    space_count = 0\n",
    "    input = input.replace('###',' ')\n",
    "    \n",
    "    while i < len(input):\n",
    "        if input[i] != ' ':\n",
    "            char += input[i]\n",
    "            space_count = 0\n",
    "        else:\n",
    "            space_count += 1\n",
    "            if space_count == 1:\n",
    "                if char in reverse_morse_code_dict:\n",
    "                    decoded_message += reverse_morse_code_dict[char]\n",
    "                char = ''\n",
    "            elif space_count == 3:\n",
    "                decoded_message += ' '\n",
    "        i += 1\n",
    "    return decoded_message\n",
    "    \n",
    "    \n",
    "    \n",
    "    \n",
    "q9_input_i = \"-.-- --- ..-   ..--. .. -. .. ... .... . -..   .- .----###\"\n",
    "print(decode(q9_input_i))\n",
    "                \n",
    "     \n",
    "    "
   ]
  },
  {
   "cell_type": "code",
   "execution_count": 1,
   "metadata": {},
   "outputs": [
    {
     "name": "stdout",
     "output_type": "stream",
     "text": [
      "字符串有差异:\n",
      "位置 0: h 不同于 a\n",
      "位置 1: e 不同于 d\n",
      "位置 2: l 不同于 s\n",
      "位置 3: l 不同于 d\n",
      "位置 4: o 不同于 d\n",
      "hello\n",
      "adsdd 2398\n"
     ]
    }
   ],
   "source": [
    "def find_differences(str1, str2):\n",
    "    differences = []\n",
    "    for i, (char1, char2) in enumerate(zip(str1, str2)):\n",
    "        if char1 != char2:\n",
    "            differences.append((i, char1, char2))\n",
    "    return differences\n",
    "\n",
    "str1 = \"hello\"\n",
    "str2 = \"adsdd 2398\"\n",
    "differences = find_differences(str1, str2)\n",
    "if differences:\n",
    "    print(\"字符串有差异:\")\n",
    "    for diff in differences:\n",
    "        print(f\"位置 {diff[0]}: {diff[1]} 不同于 {diff[2]}\")\n",
    "else:\n",
    "    print(\"字符串相同\")\n",
    "print(str1)\n",
    "print(str2)"
   ]
  },
  {
   "cell_type": "code",
   "execution_count": 2,
   "metadata": {},
   "outputs": [
    {
     "name": "stdout",
     "output_type": "stream",
     "text": [
      "4\n",
      "1\n",
      "This is not a palindrome\n"
     ]
    }
   ],
   "source": [
    "str1 = '123443210'\n",
    "print(9//2)\n",
    "print(str1[0])\n",
    "\n",
    "\n",
    "def parlindrome():\n",
    "    i = 0\n",
    "    \n",
    "    while i <= len(str1)//2:\n",
    "        i += 1\n",
    "        if str1[i-1] == str1[len(str1) - i]:\n",
    "            return 'This is a palindrome'\n",
    "        else:\n",
    "            return 'This is not a palindrome'\n",
    "print(parlindrome())"
   ]
  },
  {
   "cell_type": "code",
   "execution_count": 8,
   "metadata": {},
   "outputs": [],
   "source": [
    "def factiorial(num):\n",
    "    n = 0\n",
    "    multi = 1\n",
    "    \n",
    "    while n <= num:\n",
    "        if n == 0:\n",
    "            multi = 1\n",
    "        else:\n",
    "            multi *= n\n",
    "        n += 1\n",
    "        \n",
    "    return multi\n",
    "\n",
    "def series20_sum(num,level):\n",
    "    sum = 1\n",
    "    n = 0\n",
    "    \n",
    "    \n",
    "    while n < level:\n",
    "        n += 1\n",
    "        item = num ** n / factiorial(n)\n",
    "        sum += item\n",
    "    \n",
    "    return sum\n",
    "\n",
    "output20 = series20_sum(1,2)"
   ]
  }
 ],
 "metadata": {
  "kernelspec": {
   "display_name": "Python 3",
   "language": "python",
   "name": "python3"
  },
  "language_info": {
   "codemirror_mode": {
    "name": "ipython",
    "version": 3
   },
   "file_extension": ".py",
   "mimetype": "text/x-python",
   "name": "python",
   "nbconvert_exporter": "python",
   "pygments_lexer": "ipython3",
   "version": "3.10.11"
  }
 },
 "nbformat": 4,
 "nbformat_minor": 2
}
