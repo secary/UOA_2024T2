{
 "cells": [
  {
   "cell_type": "markdown",
   "id": "03755c95",
   "metadata": {},
   "source": [
    "# MATHS 7027 Mathematical Foundations of Data Science\n",
    "## Assignment 2 - Question 4\n",
    "In this question, we will explore the use of `for` loops to calculate sums.\n",
    "\n",
    "The notebook below will teach you how to use these. You should modify this notebook to solve the problems in the assignment, then attach your completed notebook (as a PDF) to your solutions to the other assignment questions.\n",
    "\n",
    "Let's get started.\n",
    "\n",
    "We can calculate sums by adding each new term to the existing sum. This suggests an efficient way to compute sums - by using a **loop**!\n",
    "\n",
    "## `for` loops\n",
    "\n",
    "Here's an example of a `for` loop, which we use to calculate the sum of the first $n=10$ natural numbers:"
   ]
  },
  {
   "cell_type": "code",
   "execution_count": null,
   "id": "a3370728",
   "metadata": {},
   "outputs": [],
   "source": [
    "n = 10\n",
    "sum_n = 0\n",
    "\n",
    "for i in range(1,n+1):\n",
    "    sum_n = sum_n + i\n",
    "    \n",
    "print(\"Sum of the first 10 numbers:\",sum_n)"
   ]
  },
  {
   "cell_type": "markdown",
   "id": "aa6d92b5",
   "metadata": {},
   "source": [
    "You can check that this is correct using the relevant formula from the course material.\n",
    "\n",
    "Let's go through the code line-by-line.\n",
    "\n",
    "First, we define the number of terms to sum (`n = 10`).  \n",
    "Next, we initialise our sum at 0 (`sum_n`).  \n",
    "Then, we loop over the values in `range(1,n+1)`, adding each new value (`+ i`) to `sum_n`. The operation that gets repeated inside the loop needs to be *indented* in Python - the language makes you write nice-looking code, but nice-looking code is generally easy to read, so this is not a bad thing.\n",
    "\n",
    "The final line, which is not indented, is outside of our `for` loop, so our result is only printed after the loop is finished running, and only prints once.\n",
    "\n",
    "So, what are the values in `range(1,n+1)`? Type `list(range(1,n+1))` in the cell below to find out."
   ]
  },
  {
   "cell_type": "code",
   "execution_count": null,
   "id": "8165c1eb",
   "metadata": {},
   "outputs": [],
   "source": [
    "list(range(1,n+1))"
   ]
  },
  {
   "cell_type": "markdown",
   "id": "26e4cf49",
   "metadata": {},
   "source": [
    "That might be a bit surprising: `range(a,b)` creates a list of integers, starting at `a` and ending at `b-1`. You might expect the list to end at `b`, but this isn't the case. The `range` command can also take a single argument, `range(n)`, which is equivalent to `range(0,n)`.\n",
    "\n",
    "To give us a better understanding of what's going on you can try the following (but you **don't** have to submit this):\n",
    "- put `print(i)` inside the loop above to see how the loop is incremented\n",
    "- put `print(sum_n)` inside the loop to see how the sum is recursively calculated\n",
    "\n",
    "## 4(a)\n",
    "\n",
    "Use a loop to calculate: $$\\sum_{n=3}^{9}n^{3}-6n^{2}$$"
   ]
  },
  {
   "cell_type": "code",
   "execution_count": null,
   "id": "3749611d",
   "metadata": {},
   "outputs": [],
   "source": []
  },
  {
   "cell_type": "markdown",
   "id": "04e53ca6",
   "metadata": {},
   "source": [
    "## 4(b)\n",
    "Now, let's try to approximate an infinite series. Consider the following series:\n",
    "$$\\sum_{i=0}^{\\infty}\\frac{1}{i!}$$\n",
    "\n",
    "Use loops to calculate the partial sums $S_{4}$, $S_{9}$, and $S_{20}$.\n",
    "\n",
    "Based on your partial sums, say if you think the infinite series converges, and what value it converges to.\n",
    "\n",
    "Make sure you show the values you calculate for $S_{4}$, $S_{9}$, and $S_{20}$."
   ]
  },
  {
   "cell_type": "code",
   "execution_count": null,
   "id": "615474f2",
   "metadata": {},
   "outputs": [],
   "source": []
  }
 ],
 "metadata": {
  "kernelspec": {
   "display_name": "Python 3 (ipykernel)",
   "language": "python",
   "name": "python3"
  },
  "language_info": {
   "codemirror_mode": {
    "name": "ipython",
    "version": 3
   },
   "file_extension": ".py",
   "mimetype": "text/x-python",
   "name": "python",
   "nbconvert_exporter": "python",
   "pygments_lexer": "ipython3",
   "version": "3.9.7"
  }
 },
 "nbformat": 4,
 "nbformat_minor": 5
}
